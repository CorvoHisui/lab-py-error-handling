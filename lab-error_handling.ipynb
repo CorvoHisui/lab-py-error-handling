{
 "cells": [
  {
   "cell_type": "markdown",
   "metadata": {},
   "source": [
    "# LAB | Error Handling in Python\n",
    "\n",
    "## Overview\n",
    "This exercise notebook will help you practice error handling in Python using exceptions. You will write programs that handle various types of exceptions to ensure your code runs smoothly and handles errors gracefully."
   ]
  },
  {
   "cell_type": "markdown",
   "metadata": {},
   "source": [
    "### Exercise 1: Handle ZeroDivisionError\n",
    "Write a Python program to handle a `ZeroDivisionError` exception when dividing a number by zero.\n"
   ]
  },
  {
   "cell_type": "code",
   "execution_count": 1,
   "metadata": {},
   "outputs": [],
   "source": [
    "# Your code here\n",
    "def divide(a, b):\n",
    "    try:\n",
    "        result = a / b\n",
    "    except ZeroDivisionError:\n",
    "        return \"dividing by 0 is not possible\"\n",
    "    else:\n",
    "        return result\n"
   ]
  },
  {
   "cell_type": "markdown",
   "metadata": {},
   "source": [
    "\n",
    "### Exercise 2: Raise ValueError for Invalid Input\n",
    "Write a Python program that prompts the user to input an integer and raises a `ValueError` exception if the input is not a valid integer.\n",
    "\n"
   ]
  },
  {
   "cell_type": "code",
   "execution_count": 2,
   "metadata": {},
   "outputs": [],
   "source": [
    "# Your code here\n",
    "def get_integer_input():\n",
    "    while True:\n",
    "        try:\n",
    "            user_input = input(\"Please enter an integer: \")\n",
    "            user_input = int(user_input)\n",
    "            return user_input\n",
    "        except ValueError:\n",
    "            print(\"The input was not a valid integer.\")\n"
   ]
  },
  {
   "cell_type": "markdown",
   "metadata": {},
   "source": [
    "\n",
    "\n",
    "### Exercise 3: Handle FileNotFoundError\n",
    "Write a Python program that opens a file and handles a `FileNotFoundError` exception if the file does not exist.\n",
    "\n"
   ]
  },
  {
   "cell_type": "code",
   "execution_count": 3,
   "metadata": {},
   "outputs": [],
   "source": [
    "# Your code here\n",
    "def open_file(filename):\n",
    "    try:\n",
    "        with open(filename, 'r') as file:\n",
    "            content = file.read()\n",
    "            print(\"File content:\")\n",
    "            print(content)\n",
    "    except FileNotFoundError:\n",
    "        print(f\"Error: The file '{filename}' was not found.\")"
   ]
  },
  {
   "cell_type": "markdown",
   "metadata": {},
   "source": [
    "\n",
    "\n",
    "### Exercise 4: Raise TypeError for Non-Numerical Input\n",
    "Write a Python program that prompts the user to input two numbers and raises a `TypeError` exception if the inputs are not numerical.\n",
    "\n"
   ]
  },
  {
   "cell_type": "code",
   "execution_count": null,
   "metadata": {},
   "outputs": [],
   "source": [
    "# Your code here\n",
    "def get_numbers():\n",
    "    while True:\n",
    "        try:\n",
    "            # Prompt user to enter two numbers\n",
    "            num1 = input(\"Enter the first number: \")\n",
    "            num2 = input(\"Enter the second number: \")\n",
    "            \n",
    "            # Try to convert inputs to float (to allow both integers and decimals)\n",
    "            num1 = float(num1)\n",
    "            num2 = float(num2)\n",
    "            \n",
    "            return num1, num2\n",
    "        except TypeError:\n",
    "            print(\"Make sure to enter numbers.\")"
   ]
  },
  {
   "cell_type": "markdown",
   "metadata": {},
   "source": [
    "\n",
    "\n",
    "### Exercise 5: Handle PermissionError\n",
    "Write a Python program that opens a file and handles a `PermissionError` exception if there is a permission issue.\n",
    "\n",
    "\n"
   ]
  },
  {
   "cell_type": "code",
   "execution_count": 5,
   "metadata": {},
   "outputs": [],
   "source": [
    "# Your code here\n",
    "def open_file():\n",
    "    try:\n",
    "        # Try to open the file in read mode\n",
    "        file_name = input(\"File name: \")\n",
    "        with open(file_name, 'r') as file:\n",
    "            content = file.read()\n",
    "            print(\"File content:\")\n",
    "            print(content)\n",
    "    except PermissionError:\n",
    "        print(f\"You dont have enough permission to open this file\")"
   ]
  },
  {
   "cell_type": "markdown",
   "metadata": {},
   "source": [
    "\n",
    "\n",
    "### Exercise 6: Handle IndexError in List Operations\n",
    "Write a Python program that executes an operation on a list and handles an `IndexError` exception if the index is out of range.\n",
    "\n",
    "\n"
   ]
  },
  {
   "cell_type": "code",
   "execution_count": 6,
   "metadata": {},
   "outputs": [],
   "source": [
    "# Your code here\n",
    "def access_list_element():\n",
    "    my_list = [10, 20, 30, 40, 50]\n",
    "    \n",
    "    try:\n",
    "        index = int(input(\"Enter an index to access an element from the list: \"))\n",
    "        element = my_list[index]\n",
    "        print(f\"The element at index {index} is: {element}\")\n",
    "    \n",
    "    except IndexError:\n",
    "        print(f\"The index {index} is out of range.\")"
   ]
  },
  {
   "cell_type": "markdown",
   "metadata": {},
   "source": [
    "\n",
    "\n",
    "### Exercise 7: Handle KeyboardInterrupt Exception\n",
    "Write a Python program that prompts the user to input a number and handles a `KeyboardInterrupt` exception if the user cancels the input.\n",
    "\n"
   ]
  },
  {
   "cell_type": "code",
   "execution_count": null,
   "metadata": {},
   "outputs": [],
   "source": [
    "# Your code here\n",
    "def get_number():\n",
    "    try:\n",
    "        user_input = input(\"Please enter a number: \")\n",
    "        number = int(user_input)\n",
    "        print(f\"Your number: {number}\")\n",
    "    except KeyboardInterrupt:\n",
    "        print(\"\\nInput was interrupted.\")"
   ]
  },
  {
   "cell_type": "markdown",
   "metadata": {},
   "source": [
    "\n",
    "\n",
    "### Exercise 8: Handle ArithmeticError\n",
    "Write a Python program that executes division and handles an `ArithmeticError` exception if there is an arithmetic error.\n",
    "\n"
   ]
  },
  {
   "cell_type": "code",
   "execution_count": 8,
   "metadata": {},
   "outputs": [],
   "source": [
    "# Your code here\n",
    "def divide_numbers():\n",
    "    try:\n",
    "        num1 = float(input(\"Enter the numerator: \"))\n",
    "        num2 = float(input(\"Enter the denominator: \"))\n",
    "        \n",
    "        # Perform the division\n",
    "        result = num1 / num2\n",
    "        print(result)\n",
    "    \n",
    "    except ArithmeticError:\n",
    "        print(\"Arithmetic Error.\")"
   ]
  },
  {
   "cell_type": "markdown",
   "metadata": {},
   "source": [
    "\n",
    "\n",
    "### Exercise 9: Handle UnicodeDecodeError\n",
    "Write a Python program that opens a file and handles a `UnicodeDecodeError` exception if there is an encoding issue.\n",
    "\n"
   ]
  },
  {
   "cell_type": "code",
   "execution_count": 10,
   "metadata": {},
   "outputs": [],
   "source": [
    "# Your code here\n",
    "def open_file_with_unicode_handling(file_name):\n",
    "    try:\n",
    "        # Attempt to open and read the file with the default encoding\n",
    "        with open(file_name, 'r', encoding='utf-8') as file:\n",
    "            content = file.read()\n",
    "            print(content)\n",
    "    \n",
    "    except UnicodeDecodeError:\n",
    "        print(\"UnicodeDecodeError\")"
   ]
  },
  {
   "cell_type": "markdown",
   "metadata": {},
   "source": [
    "\n",
    "\n",
    "### Exercise 10: Handle AttributeError\n",
    "Write a Python program that executes an operation on an object and handles an `AttributeError` exception if the attribute does not exist.\n",
    "\n"
   ]
  },
  {
   "cell_type": "code",
   "execution_count": 11,
   "metadata": {},
   "outputs": [],
   "source": [
    "# Your code here\n",
    "class Person:\n",
    "    def __init__(self, name, age):\n",
    "        self.name = name\n",
    "        self.age = age\n",
    "\n",
    "def perform_operation_on_object(obj):\n",
    "    try:\n",
    "        print(obj.address)\n",
    "    \n",
    "    except AttributeError as e:\n",
    "        print(f\"AttributeError\")"
   ]
  },
  {
   "cell_type": "markdown",
   "metadata": {},
   "source": [
    "\n",
    "\n",
    "## Bonus Exercises\n",
    "\n",
    "### Bonus Exercise 1: Handle Multiple Exceptions\n",
    "Write a Python program that demonstrates handling multiple exceptions in one block.\n",
    "\n",
    "\n"
   ]
  },
  {
   "cell_type": "code",
   "execution_count": 12,
   "metadata": {},
   "outputs": [],
   "source": [
    "# Your code here\n",
    "def demonstrate_multiple_exceptions():\n",
    "    try:\n",
    "        num1 = input(\"Enter the first number: \")\n",
    "        num2 = input(\"Enter the second number: \")\n",
    "\n",
    "        num1 = int(num1)\n",
    "        num2 = int(num2)\n",
    "\n",
    "        result = num1 / num2\n",
    "        print(f\"The result of division is: {result}\")\n",
    "\n",
    "        my_list = [1, 2, 3]\n",
    "        print(f\"The element at index 5 is: {my_list[5]}\")\n",
    "\n",
    "    except (ValueError, ZeroDivisionError, IndexError) as e:\n",
    "        # Handle multiple exceptions in one block\n",
    "        print(f\"An error occurred: {e}\")"
   ]
  },
  {
   "cell_type": "markdown",
   "metadata": {},
   "source": [
    "\n",
    "\n",
    "### Bonus Exercise 2: Create Custom Exception\n",
    "Create a custom exception class and raise it in your code when certain conditions are met.\n",
    "\n",
    "\n"
   ]
  },
  {
   "cell_type": "code",
   "execution_count": 13,
   "metadata": {},
   "outputs": [],
   "source": [
    "# Your code here\n",
    "class NegativeNumberError(Exception):\n",
    "    def __init__(self, message):\n",
    "        self.message = message\n",
    "        super().__init__(self.message)\n",
    "\n",
    "def check_number(num):\n",
    "    if num < 0:\n",
    "        raise NegativeNumberError(\"Negative numbers are not allowed!\")\n",
    "    else:\n",
    "        print(f\"The number {num} is valid.\")\n",
    "\n",
    "def main():\n",
    "    try:\n",
    "        num = float(input(\"Enter a number: \"))\n",
    "\n",
    "        check_number(num)\n",
    "    \n",
    "    except NegativeNumberError as e:\n",
    "        print(f\"Custom Exception: {e}\")\n"
   ]
  },
  {
   "cell_type": "markdown",
   "metadata": {},
   "source": [
    "\n",
    "\n",
    "### Bonus Exercise 3: Validate User Input with Exception Handling\n",
    "Write a program that repeatedly prompts the user for valid input until they provide it, using exception handling to manage invalid inputs.\n",
    "\n"
   ]
  },
  {
   "cell_type": "code",
   "execution_count": 14,
   "metadata": {},
   "outputs": [],
   "source": [
    "# Your code here\n",
    "def get_valid_input():\n",
    "    while True:\n",
    "        try:\n",
    "            user_input = input(\"Please enter a positive integer: \")\n",
    "\n",
    "            number = int(user_input)\n",
    "\n",
    "            if number <= 0:\n",
    "                raise ValueError(\"The number must be positive. Try again.\")\n",
    "\n",
    "            return number\n",
    "        \n",
    "        except ValueError as e:\n",
    "            print(f\"Invalid input: {e}. Please enter a positive integer.\")"
   ]
  },
  {
   "cell_type": "markdown",
   "metadata": {},
   "source": [
    "\n",
    "\n",
    "### Bonus Exercise 4: Log Errors to File\n",
    "Modify your error handling to log errors to a text file instead of printing them to the console.\n",
    "\n"
   ]
  },
  {
   "cell_type": "code",
   "execution_count": 1,
   "metadata": {},
   "outputs": [],
   "source": [
    "# Your code here\n",
    "def log_error(message):\n",
    "    with open(\"error_log.txt\", \"a\") as log_file:\n",
    "        log_file.write(message + \"\\n\")\n",
    "\n",
    "def get_valid_input():\n",
    "    while True:\n",
    "        try:\n",
    "            user_input = input(\"Please enter a positive integer: \")\n",
    "\n",
    "            number = int(user_input)\n",
    "\n",
    "            if number <= 0:\n",
    "                raise ValueError(\"The number must be positive. Try again.\")\n",
    "\n",
    "            return number\n",
    "        except ValueError as e:\n",
    "            error_message = f\"Invalid input: {e}. Input received: {user_input}\"\n",
    "            print(\"Invalid input. Please try again.\")\n",
    "            log_error(error_message)\n"
   ]
  },
  {
   "cell_type": "markdown",
   "metadata": {},
   "source": [
    "\n",
    "\n",
    "### Bonus Exercise 5: Retry Logic on Exception\n",
    "Implement retry logic for operations that could fail, allowing users to try again after encountering an error.\n",
    "\n"
   ]
  },
  {
   "cell_type": "code",
   "execution_count": null,
   "metadata": {},
   "outputs": [],
   "source": [
    "def get_valid_input():\n",
    "    retries = 0\n",
    "    while retries < 3:\n",
    "        try:\n",
    "            user_input = int(input(\"Please enter a positive integer: \"))\n",
    "            \n",
    "            if user_input <= 0:\n",
    "                print(\"The number must be positive. Try again.\")\n",
    "            else:\n",
    "                return user_input\n",
    "            \n",
    "        except ValueError:\n",
    "            print(\"Invalid input! Please enter a valid integer.\")\n",
    "        \n",
    "        retries += 1\n",
    "        print(f\"Attempt {retries}/3. Please try again.\")\n",
    "    \n",
    "    print(\"Maximum retries reached. Exiting...\")\n",
    "    return None\n",
    "\n",
    "# Get the valid input\n",
    "valid_number = get_valid_input()\n",
    "\n",
    "if valid_number is not None:\n",
    "    print(f\"You entered a valid positive integer: {valid_number}\")\n",
    "else:\n",
    "    print(\"Failed to enter a valid number after several attempts.\")\n"
   ]
  }
 ],
 "metadata": {
  "kernelspec": {
   "display_name": "Python 3",
   "language": "python",
   "name": "python3"
  },
  "language_info": {
   "codemirror_mode": {
    "name": "ipython",
    "version": 3
   },
   "file_extension": ".py",
   "mimetype": "text/x-python",
   "name": "python",
   "nbconvert_exporter": "python",
   "pygments_lexer": "ipython3",
   "version": "3.13.2"
  }
 },
 "nbformat": 4,
 "nbformat_minor": 2
}
